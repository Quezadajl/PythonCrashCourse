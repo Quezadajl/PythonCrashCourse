{
 "cells": [
  {
   "cell_type": "code",
   "execution_count": 1,
   "id": "a9f6d2aa",
   "metadata": {},
   "outputs": [
    {
     "name": "stdout",
     "output_type": "stream",
     "text": [
      "Hello totodile, thank you for logging in again.\n",
      "Hello Cyndaquil, thank you for logging in again.\n",
      "Hello Chikorita, thank you for logging in again.\n",
      "Hello admin, would you like to see a status report?\n"
     ]
    }
   ],
   "source": [
    "#Hello Admin challenge\n",
    "usernames = ['totodile','Cyndaquil','Chikorita','Rowlet','Admin']\n",
    "\n",
    "usernames = ['totodile','Cyndaquil','Chikorita','Rowlet','Admin']\n",
    "if 'totodile' in usernames:\n",
    "\tprint(f'Hello {usernames[0]}, thank you for logging in again.')\n",
    "if 'Cyndaquil' in usernames:\n",
    "\tprint(f'Hello {usernames[1]}, thank you for logging in again.')\n",
    "if 'Rowlet' in usernames:\n",
    "\tprint(f'Hello {usernames[2]}, thank you for logging in again.')\n",
    "if 'Admin' in usernames:\n",
    "\tprint('Hello admin, would you like to see a status report?')"
   ]
  },
  {
   "cell_type": "code",
   "execution_count": null,
   "id": "fc0f1546",
   "metadata": {},
   "outputs": [],
   "source": [
    "#Trial update\n"
   ]
  }
 ],
 "metadata": {
  "kernelspec": {
   "display_name": "Python 3 (ipykernel)",
   "language": "python",
   "name": "python3"
  },
  "language_info": {
   "codemirror_mode": {
    "name": "ipython",
    "version": 3
   },
   "file_extension": ".py",
   "mimetype": "text/x-python",
   "name": "python",
   "nbconvert_exporter": "python",
   "pygments_lexer": "ipython3",
   "version": "3.9.13"
  }
 },
 "nbformat": 4,
 "nbformat_minor": 5
}
