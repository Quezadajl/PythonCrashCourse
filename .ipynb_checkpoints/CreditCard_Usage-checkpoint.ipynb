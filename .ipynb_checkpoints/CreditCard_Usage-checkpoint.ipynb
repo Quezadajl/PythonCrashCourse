{
 "cells": [
  {
   "cell_type": "code",
   "execution_count": 1,
   "id": "730f5fb6",
   "metadata": {},
   "outputs": [],
   "source": [
    "import pandas as pd\n",
    "import matplotlib.pyplot as plt\n",
    "import seaborn as sns\n",
    "from datetime import datetime"
   ]
  },
  {
   "cell_type": "code",
   "execution_count": 2,
   "id": "09f3818b",
   "metadata": {},
   "outputs": [
    {
     "data": {
      "text/plain": [
       "'2023-01'"
      ]
     },
     "execution_count": 2,
     "metadata": {},
     "output_type": "execute_result"
    }
   ],
   "source": [
    "# Get current period\n",
    "year = str(datetime.now().year)\n",
    "month = str(datetime.now().month)\n",
    "if len(year + \"-\" + month) == 6:\n",
    "    cur_period = year + \"-0\" + month\n",
    "else:\n",
    "    cur_period = year + \"-\" + month\n",
    "cur_period"
   ]
  },
  {
   "cell_type": "code",
   "execution_count": null,
   "id": "af705ed3",
   "metadata": {},
   "outputs": [],
   "source": [
    "# # Overall Category\n",
    "df = pd.read_csv(\"../data/sales_subset.csv\")\n",
    "df[\"month_year\"] = pd.to_datetime(df['Post Date']).dt.to_period('M').astype(str)\n",
    "all_cats = df\n",
    "all_cats = all_cats.drop(columns = [\"Trans. Date\", \"Description\", \"Post Date\"])\n",
    "all_cats.groupby([\"month_year\", \"Category\"]).sum().reset_index()\n",
    "all_cats"
   ]
  }
 ],
 "metadata": {
  "kernelspec": {
   "display_name": "Python 3 (ipykernel)",
   "language": "python",
   "name": "python3"
  },
  "language_info": {
   "codemirror_mode": {
    "name": "ipython",
    "version": 3
   },
   "file_extension": ".py",
   "mimetype": "text/x-python",
   "name": "python",
   "nbconvert_exporter": "python",
   "pygments_lexer": "ipython3",
   "version": "3.9.13"
  }
 },
 "nbformat": 4,
 "nbformat_minor": 5
}
